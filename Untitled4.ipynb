{
 "cells": [
  {
   "cell_type": "code",
   "execution_count": 1,
   "id": "e6c886d3",
   "metadata": {},
   "outputs": [
    {
     "name": "stdout",
     "output_type": "stream",
     "text": [
      "Pray from Allah\n"
     ]
    }
   ],
   "source": [
    "location = \"Masgid\"\n",
    "\n",
    "if location == \"school\":\n",
    "    print('read your book')\n",
    "else:\n",
    "    print('Pray from Allah')"
   ]
  },
  {
   "cell_type": "code",
   "execution_count": 2,
   "id": "a01a25d6",
   "metadata": {},
   "outputs": [],
   "source": [
    "mylist = [1,2,3,4,5,6,7,8,9,10,11,12,13]"
   ]
  },
  {
   "cell_type": "code",
   "execution_count": 5,
   "id": "f66968ee",
   "metadata": {},
   "outputs": [
    {
     "name": "stdout",
     "output_type": "stream",
     "text": [
      "1\n",
      "3\n",
      "6\n",
      "10\n",
      "15\n",
      "21\n",
      "28\n",
      "36\n",
      "45\n",
      "55\n",
      "66\n",
      "78\n",
      "91\n"
     ]
    }
   ],
   "source": [
    "sum_list = 0\n",
    "\n",
    "for num in mylist:\n",
    "    sum_list = sum_list + num\n",
    "    \n",
    "\n",
    "    print(sum_list)"
   ]
  },
  {
   "cell_type": "code",
   "execution_count": 15,
   "id": "3df94bdd",
   "metadata": {},
   "outputs": [],
   "source": [
    "mynumber = [x**2 for x in range(0,11) if x% 3==0]"
   ]
  },
  {
   "cell_type": "code",
   "execution_count": 16,
   "id": "5ab62e3c",
   "metadata": {},
   "outputs": [
    {
     "data": {
      "text/plain": [
       "[0, 9, 36, 81]"
      ]
     },
     "execution_count": 16,
     "metadata": {},
     "output_type": "execute_result"
    }
   ],
   "source": [
    "mynumber"
   ]
  },
  {
   "cell_type": "code",
   "execution_count": null,
   "id": "14c115cf",
   "metadata": {},
   "outputs": [],
   "source": []
  }
 ],
 "metadata": {
  "kernelspec": {
   "display_name": "Python 3 (ipykernel)",
   "language": "python",
   "name": "python3"
  },
  "language_info": {
   "codemirror_mode": {
    "name": "ipython",
    "version": 3
   },
   "file_extension": ".py",
   "mimetype": "text/x-python",
   "name": "python",
   "nbconvert_exporter": "python",
   "pygments_lexer": "ipython3",
   "version": "3.9.12"
  }
 },
 "nbformat": 4,
 "nbformat_minor": 5
}
