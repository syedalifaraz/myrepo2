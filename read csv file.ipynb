{
 "cells": [
  {
   "cell_type": "code",
   "execution_count": 10,
   "id": "4c83f8d8",
   "metadata": {},
   "outputs": [
    {
     "name": "stdout",
     "output_type": "stream",
     "text": [
      "the file is contain  162 lines\n"
     ]
    }
   ],
   "source": [
    "filename = 'age.csv'\n",
    "observation = []\n",
    "count = 0\n",
    "with open('age.csv', 'r') as ages:\n",
    "    header = ages.__next__()\n",
    "    for row in ages:\n",
    "        observation.append(row.strip('\\n'))\n",
    "        count += 1\n",
    "print('the file is contain ', count, 'lines')"
   ]
  },
  {
   "cell_type": "code",
   "execution_count": 20,
   "id": "afe2ce0c",
   "metadata": {},
   "outputs": [],
   "source": [
    "class fruit:\n",
    "    '''\n",
    "    a define class for fruit \n",
    "    '''\n",
    "    def __init__(self, name, nutritions):\n",
    "        try:\n",
    "            assert type(nutritions) == list\n",
    "        except AssertionError:\n",
    "            print('invalid construction')\n",
    "            raise Exception\n",
    "        self.name = name\n",
    "        self.nutritions = nutritions\n",
    "        self.is_ripe = False\n",
    "    def get_name(self):\n",
    "        return self.name\n",
    "    def get_nutritions(self):\n",
    "        print(self.name + 'has following nutritions')\n",
    "        for value in self.nutritions:\n",
    "            print(value)\n",
    "    def check_ripness(self):\n",
    "        return self.is_ripe\n",
    "    def ripen_fruit(self):\n",
    "        self.is_ripe = True\n",
    "        "
   ]
  },
  {
   "cell_type": "code",
   "execution_count": 13,
   "id": "27a42549",
   "metadata": {},
   "outputs": [],
   "source": [
    "apple = fruit(name='apple', nutritions=['vitamin A', 'vitamin B', 'iron' ])\n",
    "banana = fruit(name='banana', nutritions=['vitamin b12', 'zinc', 'potassiunm'])"
   ]
  },
  {
   "cell_type": "code",
   "execution_count": 39,
   "id": "e0fb3108",
   "metadata": {},
   "outputs": [
    {
     "ename": "TypeError",
     "evalue": "ripen_fruit() takes 0 positional arguments but 1 was given",
     "output_type": "error",
     "traceback": [
      "\u001b[1;31m---------------------------------------------------------------------------\u001b[0m",
      "\u001b[1;31mTypeError\u001b[0m                                 Traceback (most recent call last)",
      "Input \u001b[1;32mIn [39]\u001b[0m, in \u001b[0;36m<cell line: 1>\u001b[1;34m()\u001b[0m\n\u001b[1;32m----> 1\u001b[0m \u001b[43mapple\u001b[49m\u001b[38;5;241;43m.\u001b[39;49m\u001b[43mripen_fruit\u001b[49m\u001b[43m(\u001b[49m\u001b[43m)\u001b[49m\n\u001b[0;32m      2\u001b[0m apple\u001b[38;5;241m.\u001b[39mcheck_ripness()\n",
      "\u001b[1;31mTypeError\u001b[0m: ripen_fruit() takes 0 positional arguments but 1 was given"
     ]
    }
   ],
   "source": [
    "apple.ripen_fruit()\n",
    "apple.check_ripness()"
   ]
  },
  {
   "cell_type": "code",
   "execution_count": 40,
   "id": "27561781",
   "metadata": {},
   "outputs": [
    {
     "ename": "TypeError",
     "evalue": "ripen_fruit() takes 0 positional arguments but 1 was given",
     "output_type": "error",
     "traceback": [
      "\u001b[1;31m---------------------------------------------------------------------------\u001b[0m",
      "\u001b[1;31mTypeError\u001b[0m                                 Traceback (most recent call last)",
      "Input \u001b[1;32mIn [40]\u001b[0m, in \u001b[0;36m<cell line: 1>\u001b[1;34m()\u001b[0m\n\u001b[1;32m----> 1\u001b[0m \u001b[43mapple\u001b[49m\u001b[38;5;241;43m.\u001b[39;49m\u001b[43mripen_fruit\u001b[49m\u001b[43m(\u001b[49m\u001b[43m)\u001b[49m\n\u001b[0;32m      2\u001b[0m apple\u001b[38;5;241m.\u001b[39mcheck_ripness()\n",
      "\u001b[1;31mTypeError\u001b[0m: ripen_fruit() takes 0 positional arguments but 1 was given"
     ]
    }
   ],
   "source": [
    "apple.ripen_fruit()\n",
    "apple.check_ripness()"
   ]
  },
  {
   "cell_type": "code",
   "execution_count": 28,
   "id": "3f8388c7",
   "metadata": {},
   "outputs": [],
   "source": [
    "class citrus(fruit):\n",
    "    def __init__(self, name, nutritions):\n",
    "        super().__init__(name, nutritions)\n",
    "        self.type = 'citrus'\n",
    "        self.characterstics = 'juicy'\n",
    "    def get_type(self):\n",
    "        return self.type"
   ]
  },
  {
   "cell_type": "code",
   "execution_count": 30,
   "id": "bf92ff32",
   "metadata": {},
   "outputs": [],
   "source": [
    "orange = citrus(name='orange', nutritions = ['b12', 'vitamin k'])"
   ]
  },
  {
   "cell_type": "code",
   "execution_count": 35,
   "id": "8d13d705",
   "metadata": {},
   "outputs": [
    {
     "data": {
      "text/plain": [
       "True"
      ]
     },
     "execution_count": 35,
     "metadata": {},
     "output_type": "execute_result"
    }
   ],
   "source": [
    "orange.ripen_fruit()\n",
    "orange.check_ripness()"
   ]
  }
 ],
 "metadata": {
  "kernelspec": {
   "display_name": "Python 3 (ipykernel)",
   "language": "python",
   "name": "python3"
  },
  "language_info": {
   "codemirror_mode": {
    "name": "ipython",
    "version": 3
   },
   "file_extension": ".py",
   "mimetype": "text/x-python",
   "name": "python",
   "nbconvert_exporter": "python",
   "pygments_lexer": "ipython3",
   "version": "3.9.12"
  }
 },
 "nbformat": 4,
 "nbformat_minor": 5
}
