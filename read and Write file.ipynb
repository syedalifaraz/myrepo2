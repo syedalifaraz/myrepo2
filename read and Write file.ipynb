{
 "cells": [
  {
   "cell_type": "code",
   "execution_count": 11,
   "id": "a2f76fbc",
   "metadata": {},
   "outputs": [],
   "source": [
    "file = open('myfile1.txt','r')"
   ]
  },
  {
   "cell_type": "code",
   "execution_count": 7,
   "id": "af455db6",
   "metadata": {},
   "outputs": [],
   "source": [
    "data = []\n",
    "f = open('myfile1.txt','r')\n",
    "for row in f:\n",
    "    r = row.strip('\\n')\n",
    "    data.append(r)\n",
    "f.close()"
   ]
  },
  {
   "cell_type": "code",
   "execution_count": 8,
   "id": "46a95c05",
   "metadata": {},
   "outputs": [
    {
     "data": {
      "text/plain": [
       "['asslamualikum',\n",
       " 'this is bawany.',\n",
       " 'How are you? ',\n",
       " 'your reply is necessory',\n",
       " 'we are now input output method']"
      ]
     },
     "execution_count": 8,
     "metadata": {},
     "output_type": "execute_result"
    }
   ],
   "source": [
    "data"
   ]
  },
  {
   "cell_type": "code",
   "execution_count": 51,
   "id": "ad91bd83",
   "metadata": {},
   "outputs": [],
   "source": [
    "writedata = ['alpha', 'beta', 'gemma', 'ponka']\n",
    "with open('alphabatic6.txt', 'w')as g:\n",
    "    for ind, value in enumerate(writedata):\n",
    "        s = str([ind,value])\n",
    "        g.write(s)\n",
    "        g.write('\\n')\n",
    "g.close()"
   ]
  },
  {
   "cell_type": "code",
   "execution_count": 21,
   "id": "764c5002",
   "metadata": {},
   "outputs": [],
   "source": [
    "file = open(r'alphabatic.txt','r')"
   ]
  },
  {
   "cell_type": "code",
   "execution_count": 22,
   "id": "f872ed14",
   "metadata": {},
   "outputs": [
    {
     "data": {
      "text/plain": [
       "<_io.TextIOWrapper name='alphabatic.txt' mode='w' encoding='cp1252'>"
      ]
     },
     "execution_count": 22,
     "metadata": {},
     "output_type": "execute_result"
    }
   ],
   "source": [
    "g"
   ]
  },
  {
   "cell_type": "code",
   "execution_count": 26,
   "id": "a5681764",
   "metadata": {},
   "outputs": [],
   "source": [
    "appenddata = ['zeta', 'eta', 'theta']\n",
    "with open('alphabatic.txt', 'a')as h:\n",
    "    for ind, value in enumerate(appenddata) :\n",
    "        h.write(value)\n",
    "        h.write('\\n')\n",
    "h.close()"
   ]
  }
 ],
 "metadata": {
  "kernelspec": {
   "display_name": "Python 3 (ipykernel)",
   "language": "python",
   "name": "python3"
  },
  "language_info": {
   "codemirror_mode": {
    "name": "ipython",
    "version": 3
   },
   "file_extension": ".py",
   "mimetype": "text/x-python",
   "name": "python",
   "nbconvert_exporter": "python",
   "pygments_lexer": "ipython3",
   "version": "3.9.12"
  }
 },
 "nbformat": 4,
 "nbformat_minor": 5
}
