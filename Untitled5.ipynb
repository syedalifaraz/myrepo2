{
 "cells": [
  {
   "cell_type": "code",
   "execution_count": 8,
   "id": "392872a2",
   "metadata": {},
   "outputs": [],
   "source": [
    "dict_ = {key: value for key, value in[['apple',12],['banana',18],['orange',24]]}"
   ]
  },
  {
   "cell_type": "code",
   "execution_count": 9,
   "id": "660f8a10",
   "metadata": {},
   "outputs": [
    {
     "data": {
      "text/plain": [
       "{'apple': 12, 'banana': 18, 'orange': 24}"
      ]
     },
     "execution_count": 9,
     "metadata": {},
     "output_type": "execute_result"
    }
   ],
   "source": [
    "dict_\n"
   ]
  },
  {
   "cell_type": "code",
   "execution_count": 10,
   "id": "51a97c72",
   "metadata": {},
   "outputs": [],
   "source": [
    "dict_['cherry'] = 36"
   ]
  },
  {
   "cell_type": "code",
   "execution_count": 11,
   "id": "72f1c8be",
   "metadata": {},
   "outputs": [
    {
     "data": {
      "text/plain": [
       "{'apple': 12, 'banana': 18, 'orange': 24, 'cherry': 36}"
      ]
     },
     "execution_count": 11,
     "metadata": {},
     "output_type": "execute_result"
    }
   ],
   "source": [
    "dict_\n"
   ]
  },
  {
   "cell_type": "code",
   "execution_count": 12,
   "id": "67eceec3",
   "metadata": {},
   "outputs": [],
   "source": [
    "veg = {'tomato':45,'potato':32,'spanish':31}"
   ]
  },
  {
   "cell_type": "code",
   "execution_count": 13,
   "id": "074b25c7",
   "metadata": {},
   "outputs": [],
   "source": [
    "dict_.update(veg)"
   ]
  },
  {
   "cell_type": "code",
   "execution_count": 14,
   "id": "d13a92e1",
   "metadata": {},
   "outputs": [
    {
     "data": {
      "text/plain": [
       "{'apple': 12,\n",
       " 'banana': 18,\n",
       " 'orange': 24,\n",
       " 'cherry': 36,\n",
       " 'tomato': 45,\n",
       " 'potato': 32,\n",
       " 'spanish': 31}"
      ]
     },
     "execution_count": 14,
     "metadata": {},
     "output_type": "execute_result"
    }
   ],
   "source": [
    "dict_"
   ]
  },
  {
   "cell_type": "code",
   "execution_count": 15,
   "id": "8d8b5713",
   "metadata": {},
   "outputs": [
    {
     "data": {
      "text/plain": [
       "45"
      ]
     },
     "execution_count": 15,
     "metadata": {},
     "output_type": "execute_result"
    }
   ],
   "source": [
    "dict_.pop('tomato')"
   ]
  },
  {
   "cell_type": "code",
   "execution_count": 16,
   "id": "2eeabcba",
   "metadata": {},
   "outputs": [
    {
     "data": {
      "text/plain": [
       "{'apple': 12,\n",
       " 'banana': 18,\n",
       " 'orange': 24,\n",
       " 'cherry': 36,\n",
       " 'potato': 32,\n",
       " 'spanish': 31}"
      ]
     },
     "execution_count": 16,
     "metadata": {},
     "output_type": "execute_result"
    }
   ],
   "source": [
    "dict_\n"
   ]
  },
  {
   "cell_type": "code",
   "execution_count": 28,
   "id": "b0892ceb",
   "metadata": {},
   "outputs": [
    {
     "data": {
      "text/plain": [
       "True"
      ]
     },
     "execution_count": 28,
     "metadata": {},
     "output_type": "execute_result"
    }
   ],
   "source": [
    "x = {1,3,5,7,9}\n",
    "y = {2,4,6,8,10}\n",
    "z = {0,1,2,3,4,5,6,7,8,9}\n",
    "x.isdisjoint(y)"
   ]
  },
  {
   "cell_type": "code",
   "execution_count": 34,
   "id": "9043a722",
   "metadata": {},
   "outputs": [
    {
     "name": "stdout",
     "output_type": "stream",
     "text": [
      "chal nikal\n"
     ]
    }
   ],
   "source": [
    "number = 0\n",
    "if number%2 == 0 and number != 0:\n",
    "    print('even')\n",
    "elif number%2 != 0:\n",
    "    print('odd')\n",
    "else:\n",
    "    print('chal nikal')"
   ]
  },
  {
   "cell_type": "code",
   "execution_count": 38,
   "id": "ead4ec1d",
   "metadata": {},
   "outputs": [],
   "source": [
    "names = ['Faraz','Haseeb','Muhammad']\n",
    "for rep in range(len(names)):\n",
    "    names[rep] = 'Mr.' + names[rep]"
   ]
  },
  {
   "cell_type": "markdown",
   "id": "8279afff",
   "metadata": {},
   "source": []
  },
  {
   "cell_type": "code",
   "execution_count": 40,
   "id": "08a5082c",
   "metadata": {},
   "outputs": [
    {
     "data": {
      "text/plain": [
       "['Mr.Faraz', 'Mr.Haseeb', 'Mr.Muhammad']"
      ]
     },
     "execution_count": 40,
     "metadata": {},
     "output_type": "execute_result"
    }
   ],
   "source": [
    "names"
   ]
  },
  {
   "cell_type": "code",
   "execution_count": 42,
   "id": "5788b410",
   "metadata": {},
   "outputs": [
    {
     "name": "stdout",
     "output_type": "stream",
     "text": [
      "there are  23 apple in the fruit basket\n",
      "there are  24 banana in the fruit basket\n",
      "there are  25 cherry in the fruit basket\n"
     ]
    }
   ],
   "source": [
    "my_dict = {'apple':23, 'banana':24,'cherry':25}\n",
    "for fruit,count in my_dict.items():\n",
    "    print('there are ', count, fruit,'in the fruit basket' )"
   ]
  },
  {
   "cell_type": "code",
   "execution_count": 43,
   "id": "db11399a",
   "metadata": {},
   "outputs": [
    {
     "name": "stdout",
     "output_type": "stream",
     "text": [
      "the number  11 is at index  0 in numbers\n",
      "the number  12 is at index  1 in numbers\n",
      "the number  13 is at index  2 in numbers\n",
      "the number  14 is at index  3 in numbers\n",
      "the number  15 is at index  4 in numbers\n"
     ]
    }
   ],
   "source": [
    "numb = [11,12,13,14,15]\n",
    "for ind, num in enumerate(numb):\n",
    "    print('the number ', num, 'is at index ', ind, 'in numbers' )"
   ]
  },
  {
   "cell_type": "code",
   "execution_count": 44,
   "id": "930ca0a1",
   "metadata": {},
   "outputs": [],
   "source": [
    "def myfunc(number):\n",
    "    if number % 2 == 0:\n",
    "        return True\n",
    "    else:\n",
    "        return False"
   ]
  },
  {
   "cell_type": "code",
   "execution_count": 46,
   "id": "23ade4ba",
   "metadata": {},
   "outputs": [
    {
     "data": {
      "text/plain": [
       "True"
      ]
     },
     "execution_count": 46,
     "metadata": {},
     "output_type": "execute_result"
    }
   ],
   "source": [
    "myfunc(2)"
   ]
  },
  {
   "cell_type": "code",
   "execution_count": 52,
   "id": "6757b2d9",
   "metadata": {},
   "outputs": [
    {
     "name": "stdout",
     "output_type": "stream",
     "text": [
      "there is  7 sucessfully\n"
     ]
    },
    {
     "data": {
      "text/plain": [
       "[1, 2, 3, 4, 5, 6, 7]"
      ]
     },
     "execution_count": 52,
     "metadata": {},
     "output_type": "execute_result"
    }
   ],
   "source": [
    "mylist1 = [1,2,3,4,5,6]\n",
    "def func_1(number):\n",
    "    var = mylist1.append(7)\n",
    "    print('there is ', number, 'sucessfully')\n",
    "func_1(7)\n",
    "mylist1"
   ]
  },
  {
   "cell_type": "code",
   "execution_count": 63,
   "id": "d38ea2a5",
   "metadata": {},
   "outputs": [
    {
     "name": "stdout",
     "output_type": "stream",
     "text": [
      "there is  11.5 added at index 2\n"
     ]
    },
    {
     "data": {
      "text/plain": [
       "[11, 12, 11.5, 13, 14, 15, 16]"
      ]
     },
     "execution_count": 63,
     "metadata": {},
     "output_type": "execute_result"
    }
   ],
   "source": [
    "mylist2 = [11,12,13,14,15,16]\n",
    "def func_2(numb):\n",
    "    var = mylist2.insert(2, numb)\n",
    "    print('there is ', numb ,'added at index', 2)\n",
    "func_2(11.5)\n",
    "mylist2"
   ]
  },
  {
   "cell_type": "code",
   "execution_count": 79,
   "id": "b71849b2",
   "metadata": {},
   "outputs": [
    {
     "name": "stdout",
     "output_type": "stream",
     "text": [
      "at index 2 we deleted  23\n"
     ]
    },
    {
     "data": {
      "text/plain": [
       "[21, 22, 24, 25]"
      ]
     },
     "execution_count": 79,
     "metadata": {},
     "output_type": "execute_result"
    }
   ],
   "source": [
    "mylist3 = [21,22,23,24,25]\n",
    "def func_3(numeric):\n",
    "    var = mylist3.pop(2)\n",
    "    print('at index', 2, 'we deleted ',23 )\n",
    "func_3(0)\n",
    "mylist3"
   ]
  },
  {
   "cell_type": "code",
   "execution_count": null,
   "id": "1a4c40a5",
   "metadata": {},
   "outputs": [],
   "source": []
  }
 ],
 "metadata": {
  "kernelspec": {
   "display_name": "Python 3 (ipykernel)",
   "language": "python",
   "name": "python3"
  },
  "language_info": {
   "codemirror_mode": {
    "name": "ipython",
    "version": 3
   },
   "file_extension": ".py",
   "mimetype": "text/x-python",
   "name": "python",
   "nbconvert_exporter": "python",
   "pygments_lexer": "ipython3",
   "version": "3.9.12"
  }
 },
 "nbformat": 4,
 "nbformat_minor": 5
}
