{
 "cells": [
  {
   "cell_type": "code",
   "execution_count": 1,
   "id": "ba7b01f8",
   "metadata": {},
   "outputs": [
    {
     "name": "stdout",
     "output_type": "stream",
     "text": [
      "The Zen of Python, by Tim Peters\n",
      "\n",
      "Beautiful is better than ugly.\n",
      "Explicit is better than implicit.\n",
      "Simple is better than complex.\n",
      "Complex is better than complicated.\n",
      "Flat is better than nested.\n",
      "Sparse is better than dense.\n",
      "Readability counts.\n",
      "Special cases aren't special enough to break the rules.\n",
      "Although practicality beats purity.\n",
      "Errors should never pass silently.\n",
      "Unless explicitly silenced.\n",
      "In the face of ambiguity, refuse the temptation to guess.\n",
      "There should be one-- and preferably only one --obvious way to do it.\n",
      "Although that way may not be obvious at first unless you're Dutch.\n",
      "Now is better than never.\n",
      "Although never is often better than *right* now.\n",
      "If the implementation is hard to explain, it's a bad idea.\n",
      "If the implementation is easy to explain, it may be a good idea.\n",
      "Namespaces are one honking great idea -- let's do more of those!\n"
     ]
    }
   ],
   "source": [
    "import this"
   ]
  },
  {
   "cell_type": "code",
   "execution_count": 3,
   "id": "dc01f645",
   "metadata": {},
   "outputs": [],
   "source": [
    "y = open(r'D:\\test.txt','w')\n",
    "y.write(\"here is another line\")\n",
    "y.close()"
   ]
  },
  {
   "cell_type": "code",
   "execution_count": 6,
   "id": "272a74cb",
   "metadata": {},
   "outputs": [
    {
     "name": "stdout",
     "output_type": "stream",
     "text": [
      "here is another line\n"
     ]
    }
   ],
   "source": [
    "y = open(r'D:\\test.txt','r')\n",
    "data = y.read()\n",
    "print(data)\n",
    "y.close()"
   ]
  },
  {
   "cell_type": "code",
   "execution_count": 7,
   "id": "04023840",
   "metadata": {},
   "outputs": [
    {
     "data": {
      "text/plain": [
       "4.0"
      ]
     },
     "execution_count": 7,
     "metadata": {},
     "output_type": "execute_result"
    }
   ],
   "source": [
    "import math\n",
    "math.sqrt(16)"
   ]
  },
  {
   "cell_type": "code",
   "execution_count": 8,
   "id": "87eb2389",
   "metadata": {},
   "outputs": [
    {
     "data": {
      "text/plain": [
       "4.0"
      ]
     },
     "execution_count": 8,
     "metadata": {},
     "output_type": "execute_result"
    }
   ],
   "source": [
    "from math import sqrt\n",
    "sqrt (16)\n"
   ]
  },
  {
   "cell_type": "code",
   "execution_count": 10,
   "id": "0b716c8e",
   "metadata": {},
   "outputs": [],
   "source": [
    "def multiply_func(a,b,c):\n",
    "    return(a*b+c)"
   ]
  },
  {
   "cell_type": "code",
   "execution_count": 11,
   "id": "99c9e55a",
   "metadata": {},
   "outputs": [
    {
     "data": {
      "text/plain": [
       "10"
      ]
     },
     "execution_count": 11,
     "metadata": {},
     "output_type": "execute_result"
    }
   ],
   "source": [
    "multiply_func(2,3,4)"
   ]
  },
  {
   "cell_type": "code",
   "execution_count": 12,
   "id": "0a241502",
   "metadata": {},
   "outputs": [],
   "source": [
    "def myfunc(a=4, b=3):\n",
    "    return a*b"
   ]
  },
  {
   "cell_type": "code",
   "execution_count": 13,
   "id": "c3380275",
   "metadata": {},
   "outputs": [
    {
     "data": {
      "text/plain": [
       "12"
      ]
     },
     "execution_count": 13,
     "metadata": {},
     "output_type": "execute_result"
    }
   ],
   "source": [
    "myfunc()"
   ]
  },
  {
   "cell_type": "code",
   "execution_count": 14,
   "id": "4a2af8ef",
   "metadata": {},
   "outputs": [
    {
     "data": {
      "text/plain": [
       "-36"
      ]
     },
     "execution_count": 14,
     "metadata": {},
     "output_type": "execute_result"
    }
   ],
   "source": [
    "myfunc(b=-4,a=9)"
   ]
  },
  {
   "cell_type": "code",
   "execution_count": 15,
   "id": "d35337ed",
   "metadata": {},
   "outputs": [],
   "source": [
    "def mixed_func(a,b=6,c=7):\n",
    "    return a*-b/c"
   ]
  },
  {
   "cell_type": "code",
   "execution_count": 16,
   "id": "9d59d05b",
   "metadata": {},
   "outputs": [
    {
     "data": {
      "text/plain": [
       "-1.875"
      ]
     },
     "execution_count": 16,
     "metadata": {},
     "output_type": "execute_result"
    }
   ],
   "source": [
    "mixed_func(3,5,8)"
   ]
  },
  {
   "cell_type": "raw",
   "id": "12e856fc",
   "metadata": {},
   "source": []
  },
  {
   "cell_type": "code",
   "execution_count": 20,
   "id": "f9edf592",
   "metadata": {},
   "outputs": [],
   "source": [
    "def staric(*num, **name):\n",
    "    print(num)\n",
    "    print(name)"
   ]
  },
  {
   "cell_type": "raw",
   "id": "ac76920a",
   "metadata": {},
   "source": []
  },
  {
   "cell_type": "code",
   "execution_count": 21,
   "id": "6a463a72",
   "metadata": {},
   "outputs": [
    {
     "name": "stdout",
     "output_type": "stream",
     "text": [
      "(14, 10, 94)\n",
      "{'name': 'muhammad', 'company': 'Markhor'}\n"
     ]
    }
   ],
   "source": [
    "staric(14,10,94, name=\"muhammad\", company=\"Markhor\")"
   ]
  },
  {
   "cell_type": "code",
   "execution_count": 25,
   "id": "1b543b8e",
   "metadata": {},
   "outputs": [
    {
     "name": "stdout",
     "output_type": "stream",
     "text": [
      "11\n",
      "13\n"
     ]
    }
   ],
   "source": [
    "def func_a():\n",
    "    global a\n",
    "    a=5\n",
    "    b=6\n",
    "    return a+b\n",
    "def func_b():\n",
    "    c=8\n",
    "    return c+a\n",
    "print(func_a())\n",
    "print(func_b())\n"
   ]
  },
  {
   "cell_type": "code",
   "execution_count": 26,
   "id": "ecbbbf57",
   "metadata": {},
   "outputs": [],
   "source": [
    "class Vehicle(object):\n",
    "    '''docstring'''\n",
    "    def _init_(self):\n",
    "        '''constructer'''\n",
    "        pass"
   ]
  },
  {
   "cell_type": "code",
   "execution_count": 30,
   "id": "af313013",
   "metadata": {},
   "outputs": [
    {
     "name": "stdout",
     "output_type": "stream",
     "text": [
      "<__main__.Vehicle object at 0x00000167229B7BE0>\n"
     ]
    }
   ],
   "source": [
    "print(Vehicle())"
   ]
  }
 ],
 "metadata": {
  "kernelspec": {
   "display_name": "Python 3 (ipykernel)",
   "language": "python",
   "name": "python3"
  },
  "language_info": {
   "codemirror_mode": {
    "name": "ipython",
    "version": 3
   },
   "file_extension": ".py",
   "mimetype": "text/x-python",
   "name": "python",
   "nbconvert_exporter": "python",
   "pygments_lexer": "ipython3",
   "version": "3.9.12"
  }
 },
 "nbformat": 4,
 "nbformat_minor": 5
}
