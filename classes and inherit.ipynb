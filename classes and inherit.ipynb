{
 "cells": [
  {
   "cell_type": "code",
   "execution_count": 4,
   "id": "4bd7844e",
   "metadata": {},
   "outputs": [],
   "source": [
    "class Vegetable:\n",
    "    def __init__(self, name, nutreints):\n",
    "        try:\n",
    "            assert type(nutreints) == list \n",
    "        except AssertionError:\n",
    "            print('Invalid Type')\n",
    "            raise Exception\n",
    "        self.name = name\n",
    "        self.nutreints = nutreints\n",
    "        self.is_ripe = True\n",
    "    def get_name(self):\n",
    "        return self.name\n",
    "    def get_nutreints(self):\n",
    "        print(self.name + ' has the following nutreints')\n",
    "        for value in self.nutreints:\n",
    "            print(value)\n",
    "    def check_ripness(self):\n",
    "        return self.is_ripe"
   ]
  },
  {
   "cell_type": "code",
   "execution_count": 5,
   "id": "fe7fe57c",
   "metadata": {},
   "outputs": [],
   "source": [
    "loki= Vegetable(name='loki', nutreints=['vaitaminA', 'vitaminB', 'vitaminD'])"
   ]
  },
  {
   "cell_type": "code",
   "execution_count": 6,
   "id": "a3bf6747",
   "metadata": {},
   "outputs": [
    {
     "name": "stdout",
     "output_type": "stream",
     "text": [
      "loki has the following nutreints\n",
      "vaitaminA\n",
      "vitaminB\n",
      "vitaminD\n"
     ]
    }
   ],
   "source": [
    "loki.get_nutreints()"
   ]
  }
 ],
 "metadata": {
  "kernelspec": {
   "display_name": "Python 3 (ipykernel)",
   "language": "python",
   "name": "python3"
  },
  "language_info": {
   "codemirror_mode": {
    "name": "ipython",
    "version": 3
   },
   "file_extension": ".py",
   "mimetype": "text/x-python",
   "name": "python",
   "nbconvert_exporter": "python",
   "pygments_lexer": "ipython3",
   "version": "3.9.12"
  }
 },
 "nbformat": 4,
 "nbformat_minor": 5
}
