{
 "cells": [
  {
   "cell_type": "code",
   "execution_count": 1,
   "id": "0a2b1501-3187-4b60-b922-8f7e6cf695fd",
   "metadata": {},
   "outputs": [
    {
     "data": {
      "text/plain": [
       "2"
      ]
     },
     "execution_count": 1,
     "metadata": {},
     "output_type": "execute_result"
    }
   ],
   "source": [
    "1+1"
   ]
  },
  {
   "cell_type": "code",
   "execution_count": null,
   "id": "64d542bc-1255-478a-aa48-0676ebbc124c",
   "metadata": {},
   "outputs": [],
   "source": [
    "\n"
   ]
  },
  {
   "cell_type": "markdown",
   "id": "58fc1d5b-d073-4256-a6af-19ca76e5417a",
   "metadata": {},
   "source": [
    "## This is my first Heading"
   ]
  },
  {
   "cell_type": "code",
   "execution_count": null,
   "id": "00936483-55e1-48e1-9fbf-1bb9343f398e",
   "metadata": {},
   "outputs": [],
   "source": []
  }
 ],
 "metadata": {
  "kernelspec": {
   "display_name": "Python 3 (ipykernel)",
   "language": "python",
   "name": "python3"
  },
  "language_info": {
   "codemirror_mode": {
    "name": "ipython",
    "version": 3
   },
   "file_extension": ".py",
   "mimetype": "text/x-python",
   "name": "python",
   "nbconvert_exporter": "python",
   "pygments_lexer": "ipython3",
   "version": "3.9.12"
  }
 },
 "nbformat": 4,
 "nbformat_minor": 5
}
