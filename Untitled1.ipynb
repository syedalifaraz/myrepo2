{
 "cells": [
  {
   "cell_type": "code",
   "execution_count": 2,
   "id": "7f991df8",
   "metadata": {},
   "outputs": [
    {
     "name": "stdout",
     "output_type": "stream",
     "text": [
      "al nafi is a institute where nobody knows nothing\n"
     ]
    }
   ],
   "source": [
    "print('al nafi is a {}'.format('institute where nobody knows nothing'))"
   ]
  },
  {
   "cell_type": "code",
   "execution_count": 4,
   "id": "6bd65805",
   "metadata": {},
   "outputs": [],
   "source": [
    "result = 88/456"
   ]
  },
  {
   "cell_type": "code",
   "execution_count": 5,
   "id": "5fea7f0f",
   "metadata": {},
   "outputs": [
    {
     "name": "stdout",
     "output_type": "stream",
     "text": [
      "0.19298245614035087\n"
     ]
    }
   ],
   "source": [
    "print(result)"
   ]
  },
  {
   "cell_type": "code",
   "execution_count": 12,
   "id": "6d18b71b",
   "metadata": {},
   "outputs": [
    {
     "name": "stdout",
     "output_type": "stream",
     "text": [
      "the result is 0.1930\n"
     ]
    }
   ],
   "source": [
    "print('the result is {r:1.4f}'.format(r=result))"
   ]
  },
  {
   "cell_type": "code",
   "execution_count": null,
   "id": "a44ef424",
   "metadata": {},
   "outputs": [],
   "source": []
  }
 ],
 "metadata": {
  "kernelspec": {
   "display_name": "Python 3 (ipykernel)",
   "language": "python",
   "name": "python3"
  },
  "language_info": {
   "codemirror_mode": {
    "name": "ipython",
    "version": 3
   },
   "file_extension": ".py",
   "mimetype": "text/x-python",
   "name": "python",
   "nbconvert_exporter": "python",
   "pygments_lexer": "ipython3",
   "version": "3.9.12"
  }
 },
 "nbformat": 4,
 "nbformat_minor": 5
}
